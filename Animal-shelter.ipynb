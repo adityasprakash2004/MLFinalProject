{
 "cells": [
  {
   "cell_type": "code",
   "execution_count": 1,
   "id": "fac07a35-1c3b-436e-873e-78d89b69c753",
   "metadata": {},
   "outputs": [],
   "source": [
    "import pandas as pd \n",
    "import numpy as np\n",
    "import re\n",
    "import plotly.express as px\n",
    "from sklearn.impute import SimpleImputer\n",
    "import tensorflow as tf\n",
    "from tensorflow.keras.models import Sequential\n",
    "from tensorflow.keras.layers import Dense, Dropout\n",
    "from tensorflow.keras.callbacks import EarlyStopping\n",
    "from sklearn.model_selection import train_test_split\n",
    "from sklearn.preprocessing import StandardScaler, LabelEncoder"
   ]
  },
  {
   "cell_type": "markdown",
   "id": "b165e459-4650-4d3a-a274-241fa8b38cac",
   "metadata": {},
   "source": [
    "List of New features:\n",
    "1. Is Mixed: Checks if mixed breed\n",
    "2. Breed\n",
    "3. Color\n",
    "5. Intake Type\n",
    "6. Intake Condition\n",
    "7. Animal Type\n",
    "8. Age upon Intake\n",
    "9. Outcome Time\n",
    "10. Intake Time\n",
    "11. Length of Stay: Time spent in shelter\n",
    "12. Age Group: split age"
   ]
  },
  {
   "cell_type": "code",
   "execution_count": 2,
   "id": "b78cafd3-0a33-42b3-9e65-9308548e5145",
   "metadata": {},
   "outputs": [],
   "source": [
    "df = pd.read_csv(\"train.csv\")"
   ]
  },
  {
   "cell_type": "code",
   "execution_count": 3,
   "id": "3c39529a-89ce-4497-bea9-b38af62fb898",
   "metadata": {},
   "outputs": [
    {
     "data": {
      "text/plain": [
       "Id                  object\n",
       "Name                object\n",
       "Intake Time         object\n",
       "Found Location      object\n",
       "Intake Type         object\n",
       "Intake Condition    object\n",
       "Animal Type         object\n",
       "Sex upon Intake     object\n",
       "Age upon Intake     object\n",
       "Breed               object\n",
       "Color               object\n",
       "Outcome Time        object\n",
       "Date of Birth       object\n",
       "Outcome Type        object\n",
       "dtype: object"
      ]
     },
     "execution_count": 3,
     "metadata": {},
     "output_type": "execute_result"
    }
   ],
   "source": [
    "df.dtypes"
   ]
  },
  {
   "cell_type": "code",
   "execution_count": 4,
   "id": "8d722fec-dc6b-4603-b9e1-41fcbcfe7fc8",
   "metadata": {},
   "outputs": [],
   "source": [
    "#Drop Duplicates\n",
    "df.drop_duplicates(inplace=True)"
   ]
  },
  {
   "cell_type": "code",
   "execution_count": 5,
   "id": "a3008ead-9e3d-4e73-87a6-d80e6d7658e9",
   "metadata": {},
   "outputs": [],
   "source": [
    "#datetime attributes\n",
    "df['Intake Time'] = pd.to_datetime(df['Intake Time'])\n",
    "df['Date of Birth'] = pd.to_datetime(df['Date of Birth'])"
   ]
  },
  {
   "cell_type": "code",
   "execution_count": 6,
   "id": "47d84bb7-12b0-4189-ac11-34ff263464dc",
   "metadata": {},
   "outputs": [],
   "source": [
    "#age conversion to number\n",
    "def parse_age(age_str):\n",
    "    # Example: Convert \"2 years\" or \"8 months\" to a float value in years\n",
    "    if pd.isnull(age_str):\n",
    "        return None\n",
    "    age_str = age_str.lower()\n",
    "    num = float(re.findall(r'\\d+\\.?\\d*', age_str)[0])\n",
    "    if \"year\" in age_str:\n",
    "        return num\n",
    "    elif \"month\" in age_str:\n",
    "        return num / 12\n",
    "    elif \"week\" in age_str:\n",
    "        return num / 52\n",
    "    elif \"day\" in age_str:\n",
    "        return num / 365\n",
    "    return None\n",
    "\n",
    "df['Age upon Intake (years)'] = df['Age upon Intake'].apply(parse_age)"
   ]
  },
  {
   "cell_type": "code",
   "execution_count": 7,
   "id": "d691c69b-7c48-48cf-bc0a-769d76b04f5d",
   "metadata": {},
   "outputs": [
    {
     "data": {
      "text/plain": [
       "Id                             0\n",
       "Name                       31383\n",
       "Intake Time                    0\n",
       "Found Location                 0\n",
       "Intake Type                    0\n",
       "Intake Condition               0\n",
       "Animal Type                    0\n",
       "Sex upon Intake                2\n",
       "Age upon Intake                1\n",
       "Breed                          0\n",
       "Color                          0\n",
       "Outcome Time                   0\n",
       "Date of Birth                  0\n",
       "Outcome Type                   0\n",
       "Age upon Intake (years)        1\n",
       "dtype: int64"
      ]
     },
     "execution_count": 7,
     "metadata": {},
     "output_type": "execute_result"
    }
   ],
   "source": [
    "df.isnull().sum()"
   ]
  },
  {
   "cell_type": "code",
   "execution_count": 8,
   "id": "2e139af5-73d5-4f50-82a4-3de0b42f6953",
   "metadata": {},
   "outputs": [],
   "source": [
    "#Drop Empty Records. Maybe Impute? We will see!\n",
    "df = df.dropna(subset=[\"Sex upon Intake\", \"Age upon Intake\"])"
   ]
  },
  {
   "cell_type": "code",
   "execution_count": 9,
   "id": "a7610f31-4615-4159-8481-556c6687fdc6",
   "metadata": {},
   "outputs": [],
   "source": [
    "#drop found location. \n",
    "df = df.drop(\"Found Location\", axis=1)"
   ]
  },
  {
   "cell_type": "code",
   "execution_count": 10,
   "id": "710ac9e1-db04-44c8-8ce6-dac5e20431fc",
   "metadata": {},
   "outputs": [],
   "source": [
    "df = df.drop(\"Date of Birth\", axis=1)"
   ]
  },
  {
   "cell_type": "code",
   "execution_count": 11,
   "id": "8198782e-30eb-4e17-ad04-2b86c8e84dc0",
   "metadata": {},
   "outputs": [],
   "source": [
    "#drop name, since it is not in test features\n",
    "df = df.drop(\"Name\", axis=1)"
   ]
  },
  {
   "cell_type": "code",
   "execution_count": 12,
   "id": "05d36965-3cb8-4bdc-88c0-124af682ab00",
   "metadata": {},
   "outputs": [],
   "source": [
    "#drop outcome time since it is not in test features\n",
    "df = df.drop(\"Outcome Time\", axis=1)"
   ]
  },
  {
   "cell_type": "code",
   "execution_count": 13,
   "id": "bbdcd5e4-29a2-433a-9be0-7d5d6fdb59af",
   "metadata": {},
   "outputs": [],
   "source": [
    "#Drop Intake Time, since it is useless(I think)\n",
    "df = df.drop(\"Intake Time\", axis=1)"
   ]
  },
  {
   "cell_type": "code",
   "execution_count": 14,
   "id": "235435fa-a12b-4f30-8922-4f7065b42917",
   "metadata": {},
   "outputs": [],
   "source": [
    "#drop age, since we have converted it already(check to make sure)\n",
    "df = df.drop(\"Age upon Intake\", axis=1)"
   ]
  },
  {
   "cell_type": "code",
   "execution_count": 15,
   "id": "3633b999-976b-47fd-9004-c1cbf2167a56",
   "metadata": {},
   "outputs": [],
   "source": [
    "#convert objects to strings\n",
    "string_col = df.select_dtypes(include=\"object\").columns\n",
    "df[string_col]=df[string_col].astype(\"string\")"
   ]
  },
  {
   "cell_type": "code",
   "execution_count": 16,
   "id": "f92e820f-1d49-4271-a28b-fef4af169d2e",
   "metadata": {},
   "outputs": [
    {
     "data": {
      "text/plain": [
       "Id                         string[python]\n",
       "Intake Type                string[python]\n",
       "Intake Condition           string[python]\n",
       "Animal Type                string[python]\n",
       "Sex upon Intake            string[python]\n",
       "Breed                      string[python]\n",
       "Color                      string[python]\n",
       "Outcome Type               string[python]\n",
       "Age upon Intake (years)           float64\n",
       "dtype: object"
      ]
     },
     "execution_count": 16,
     "metadata": {},
     "output_type": "execute_result"
    }
   ],
   "source": [
    "df.dtypes"
   ]
  },
  {
   "cell_type": "code",
   "execution_count": 17,
   "id": "9df1e21d-917f-4d19-b7aa-68b54af426b2",
   "metadata": {},
   "outputs": [],
   "source": [
    "#Get categorical columns\n",
    "string_col=df.select_dtypes(\"string\").columns.to_list()"
   ]
  },
  {
   "cell_type": "code",
   "execution_count": 18,
   "id": "b1517656-a088-4985-9907-6c60e3d856a0",
   "metadata": {},
   "outputs": [
    {
     "name": "stdout",
     "output_type": "stream",
     "text": [
      "['Id', 'Intake Type', 'Intake Condition', 'Animal Type', 'Sex upon Intake', 'Breed', 'Color', 'Outcome Type', 'Age upon Intake (years)']\n",
      "['Age upon Intake (years)']\n"
     ]
    }
   ],
   "source": [
    "#Number of columns \n",
    "num_col=df.columns.to_list()\n",
    "print(num_col)\n",
    "for col in string_col:\n",
    "    num_col.remove(col)\n",
    "\n",
    "print(num_col)"
   ]
  },
  {
   "cell_type": "code",
   "execution_count": 19,
   "id": "8dd2e675-5710-4a02-81ed-c6eba888bc70",
   "metadata": {},
   "outputs": [
    {
     "data": {
      "text/html": [
       "<div>\n",
       "<style scoped>\n",
       "    .dataframe tbody tr th:only-of-type {\n",
       "        vertical-align: middle;\n",
       "    }\n",
       "\n",
       "    .dataframe tbody tr th {\n",
       "        vertical-align: top;\n",
       "    }\n",
       "\n",
       "    .dataframe thead th {\n",
       "        text-align: right;\n",
       "    }\n",
       "</style>\n",
       "<table border=\"1\" class=\"dataframe\">\n",
       "  <thead>\n",
       "    <tr style=\"text-align: right;\">\n",
       "      <th></th>\n",
       "      <th>count</th>\n",
       "      <th>mean</th>\n",
       "      <th>std</th>\n",
       "      <th>min</th>\n",
       "      <th>25%</th>\n",
       "      <th>50%</th>\n",
       "      <th>75%</th>\n",
       "      <th>max</th>\n",
       "    </tr>\n",
       "  </thead>\n",
       "  <tbody>\n",
       "    <tr>\n",
       "      <th>Age upon Intake (years)</th>\n",
       "      <td>111155.0</td>\n",
       "      <td>1.906166</td>\n",
       "      <td>2.865777</td>\n",
       "      <td>0.0</td>\n",
       "      <td>0.083333</td>\n",
       "      <td>1.0</td>\n",
       "      <td>2.0</td>\n",
       "      <td>24.0</td>\n",
       "    </tr>\n",
       "  </tbody>\n",
       "</table>\n",
       "</div>"
      ],
      "text/plain": [
       "                            count      mean       std  min       25%  50%  \\\n",
       "Age upon Intake (years)  111155.0  1.906166  2.865777  0.0  0.083333  1.0   \n",
       "\n",
       "                         75%   max  \n",
       "Age upon Intake (years)  2.0  24.0  "
      ]
     },
     "execution_count": 19,
     "metadata": {},
     "output_type": "execute_result"
    }
   ],
   "source": [
    "df.describe().T"
   ]
  },
  {
   "cell_type": "code",
   "execution_count": 20,
   "id": "ba184ca4-aa4e-4570-9522-3ee8fdce2112",
   "metadata": {},
   "outputs": [
    {
     "name": "stdout",
     "output_type": "stream",
     "text": [
      "<class 'pandas.core.frame.DataFrame'>\n",
      "Index: 111155 entries, 0 to 111156\n",
      "Data columns (total 9 columns):\n",
      " #   Column                   Non-Null Count   Dtype  \n",
      "---  ------                   --------------   -----  \n",
      " 0   Id                       111155 non-null  string \n",
      " 1   Intake Type              111155 non-null  string \n",
      " 2   Intake Condition         111155 non-null  string \n",
      " 3   Animal Type              111155 non-null  string \n",
      " 4   Sex upon Intake          111155 non-null  string \n",
      " 5   Breed                    111155 non-null  string \n",
      " 6   Color                    111155 non-null  string \n",
      " 7   Outcome Type             111155 non-null  string \n",
      " 8   Age upon Intake (years)  111155 non-null  float64\n",
      "dtypes: float64(1), string(8)\n",
      "memory usage: 8.5 MB\n"
     ]
    }
   ],
   "source": [
    "df.info()"
   ]
  },
  {
   "cell_type": "code",
   "execution_count": 21,
   "id": "611da2be-4ea7-4b6e-b980-2a55b887afaa",
   "metadata": {},
   "outputs": [],
   "source": [
    "#scale age data\n",
    "scaler = StandardScaler()\n",
    "num_cols = df.select_dtypes(include=['number']).columns\n",
    "df[num_cols] = scaler.fit_transform(df[num_cols])"
   ]
  },
  {
   "cell_type": "code",
   "execution_count": 22,
   "id": "76f4a02d-eb0c-4d27-8ecc-21739e84a7f7",
   "metadata": {},
   "outputs": [
    {
     "name": "stdout",
     "output_type": "stream",
     "text": [
      "The distribution of categorical valeus in the Id is : \n",
      "Id\n",
      "A706918    1\n",
      "A783861    1\n",
      "A635072    1\n",
      "A844350    1\n",
      "A708452    1\n",
      "          ..\n",
      "A912501    1\n",
      "A904754    1\n",
      "A909378    1\n",
      "A912293    1\n",
      "A912037    1\n",
      "Name: count, Length: 111155, dtype: Int64\n",
      "The distribution of categorical valeus in the Intake Type is : \n",
      "Intake Type\n",
      "Stray                 82162\n",
      "Owner Surrender       21446\n",
      "Public Assist          6131\n",
      "Abandoned              1233\n",
      "Euthanasia Request      182\n",
      "Wildlife                  1\n",
      "Name: count, dtype: Int64\n",
      "The distribution of categorical valeus in the Intake Condition is : \n",
      "Intake Condition\n",
      "Normal        95008\n",
      "Injured        6394\n",
      "Sick           4295\n",
      "Nursing        2957\n",
      "Neonatal       1240\n",
      "Aged            373\n",
      "Medical         298\n",
      "Other           247\n",
      "Pregnant        111\n",
      "Feral           104\n",
      "Med Attn         48\n",
      "Behavior         42\n",
      "Unknown          12\n",
      "Neurologic       10\n",
      "Med Urgent        7\n",
      "Parvo             5\n",
      "Space             2\n",
      "Agonal            1\n",
      "Congenital        1\n",
      "Name: count, dtype: Int64\n",
      "The distribution of categorical valeus in the Animal Type is : \n",
      "Animal Type\n",
      "Dog    61376\n",
      "Cat    49779\n",
      "Name: count, dtype: Int64\n",
      "The distribution of categorical valeus in the Sex upon Intake is : \n",
      "Sex upon Intake\n",
      "Intact Male      41060\n",
      "Intact Female    40070\n",
      "Neutered Male    13871\n",
      "Spayed Female    11910\n",
      "Unknown           4244\n",
      "Name: count, dtype: Int64\n",
      "The distribution of categorical valeus in the Breed is : \n",
      "Breed\n",
      "Domestic Shorthair Mix                    25361\n",
      "Domestic Shorthair                        16046\n",
      "Pit Bull Mix                               6042\n",
      "Labrador Retriever Mix                     5654\n",
      "Chihuahua Shorthair Mix                    4896\n",
      "                                          ...  \n",
      "Anatol Shepherd/Belgian Malinois              1\n",
      "Lhasa Apso/Standard Poodle                    1\n",
      "Chihuahua Shorthair/Dachshund Longhair        1\n",
      "Dachshund Longhair/Yorkshire Terrier          1\n",
      "Labrador Retriever/Akbash                     1\n",
      "Name: count, Length: 2440, dtype: Int64\n",
      "The distribution of categorical valeus in the Color is : \n",
      "Color\n",
      "Black/White                11620\n",
      "Black                       9674\n",
      "Brown Tabby                 7708\n",
      "White                       3945\n",
      "Brown Tabby/White           3862\n",
      "                           ...  \n",
      "Brown/Orange                   1\n",
      "Calico/Blue Tabby              1\n",
      "Silver Lynx Point/White        1\n",
      "Tortie/Blue Merle              1\n",
      "Brown Tabby/Gold               1\n",
      "Name: count, Length: 568, dtype: Int64\n",
      "The distribution of categorical valeus in the Outcome Type is : \n",
      "Outcome Type\n",
      "Adoption           55044\n",
      "Transfer           35024\n",
      "Return to Owner    16597\n",
      "Euthanasia          3449\n",
      "Died                1041\n",
      "Name: count, dtype: Int64\n"
     ]
    }
   ],
   "source": [
    "#one hot encode gender\n",
    "df[string_col].head()\n",
    "for col in string_col:\n",
    "    print(f\"The distribution of categorical valeus in the {col} is : \")\n",
    "    print(df[col].value_counts())"
   ]
  },
  {
   "cell_type": "code",
   "execution_count": 23,
   "id": "cad04ab0-4125-4879-95f2-4cb8e29889c2",
   "metadata": {},
   "outputs": [],
   "source": [
    "#Intake type, merge euthanasia and Wildlife\n",
    "df['Intake Type'] = df['Intake Type'].replace({\n",
    "    'Euthanasia Request': 'Other',\n",
    "    'Wildlife': 'Other'\n",
    "})"
   ]
  },
  {
   "cell_type": "code",
   "execution_count": 24,
   "id": "e730d92c-9da3-4bce-a13a-e0c6fb859274",
   "metadata": {},
   "outputs": [
    {
     "name": "stdout",
     "output_type": "stream",
     "text": [
      "Intake Condition\n",
      "Normal      95008\n",
      "Injured      6394\n",
      "Sick         4295\n",
      "Nursing      2957\n",
      "Other        1261\n",
      "Neonatal     1240\n",
      "Name: count, dtype: Int64\n"
     ]
    }
   ],
   "source": [
    "#Intake condition group rare conditions\n",
    "infrequent_conditions = [\n",
    "    \"Aged\", \"Medical\", \"Other\", \"Pregnant\", \"Panleuk\",\"Feral\", \"Med Attn\", \n",
    "    \"Behavior\", \"Unknown\", \"Neurologic\", \"Med Urgent\", \"Parvo\", \n",
    "    \"Space\", \"Agonal\", \"Congenital\"\n",
    "]\n",
    "df['Intake Condition'] = df['Intake Condition'].replace(infrequent_conditions, 'Other')\n",
    "print(df['Intake Condition'].value_counts())"
   ]
  },
  {
   "cell_type": "code",
   "execution_count": 25,
   "id": "f46ae4d6-b6f2-48e7-8443-db885bf9b817",
   "metadata": {
    "scrolled": true
   },
   "outputs": [],
   "source": [
    "df['Sex upon Intake'] = df['Sex upon Intake'].astype(object)\n",
    "\n",
    "# Replace \"Unknown\" with np.nan, and ensure pd.NA are converted to np.nan\n",
    "df['Sex upon Intake'] = df['Sex upon Intake'].replace(\"Unknown\", np.nan)\n",
    "df['Sex upon Intake'] = df['Sex upon Intake'].replace({pd.NA: np.nan})\n",
    "\n",
    "# Create the imputer instance\n",
    "imputer = SimpleImputer(strategy=\"most_frequent\")\n",
    "\n",
    "# Fit-transform and flatten the result to 1D\n",
    "df['Sex upon Intake'] = imputer.fit_transform(df[['Sex upon Intake']]).ravel()"
   ]
  },
  {
   "cell_type": "code",
   "execution_count": 26,
   "id": "79191ffe-3def-4070-91dc-2caf8130a74a",
   "metadata": {},
   "outputs": [
    {
     "name": "stdout",
     "output_type": "stream",
     "text": [
      "Breed\n",
      "Domestic Shorthair Mix                    25361\n",
      "Domestic Shorthair                        16046\n",
      "Pit Bull Mix                               6042\n",
      "Labrador Retriever Mix                     5654\n",
      "Chihuahua Shorthair Mix                    4896\n",
      "                                          ...  \n",
      "Anatol Shepherd/Belgian Malinois              1\n",
      "Lhasa Apso/Standard Poodle                    1\n",
      "Chihuahua Shorthair/Dachshund Longhair        1\n",
      "Dachshund Longhair/Yorkshire Terrier          1\n",
      "Labrador Retriever/Akbash                     1\n",
      "Name: count, Length: 2440, dtype: Int64\n"
     ]
    }
   ],
   "source": [
    "breed_counts = df['Breed'].value_counts()\n",
    "print(breed_counts)"
   ]
  },
  {
   "cell_type": "code",
   "execution_count": 27,
   "id": "c928e669-31f4-4f79-997e-537960e4b6e9",
   "metadata": {},
   "outputs": [],
   "source": [
    "#Grouping Breeds Together simple\n",
    "df['Breed'] = df['Breed'].str.strip()\n",
    "df['Breed'] = df['Breed'].fillna('Unknown')\n",
    "breed_counts = df['Breed'].value_counts()\n",
    "threshold = 200\n",
    "rare_breeds = breed_counts[breed_counts < threshold].index\n",
    "df['Breed_Grouped'] = df['Breed'].apply(lambda x: 'Other' if x in rare_breeds else x)"
   ]
  },
  {
   "cell_type": "code",
   "execution_count": 28,
   "id": "e4ce8628-4620-4cef-8070-9c6843800750",
   "metadata": {},
   "outputs": [
    {
     "name": "stdout",
     "output_type": "stream",
     "text": [
      "Color\n",
      "Black/White                11620\n",
      "Black                       9674\n",
      "Brown Tabby                 7708\n",
      "White                       3945\n",
      "Brown Tabby/White           3862\n",
      "                           ...  \n",
      "Brown/Orange                   1\n",
      "Calico/Blue Tabby              1\n",
      "Silver Lynx Point/White        1\n",
      "Tortie/Blue Merle              1\n",
      "Brown Tabby/Gold               1\n",
      "Name: count, Length: 568, dtype: Int64\n"
     ]
    }
   ],
   "source": [
    "color_counts = df['Color'].value_counts()\n",
    "print(color_counts)"
   ]
  },
  {
   "cell_type": "code",
   "execution_count": 29,
   "id": "12c889ba-b4e5-4d52-8b92-6a3ab4ef052b",
   "metadata": {},
   "outputs": [
    {
     "name": "stdout",
     "output_type": "stream",
     "text": [
      "Color_Grouped\n",
      "Mixed          58083\n",
      "Other          16019\n",
      "Black           9981\n",
      "Brown Tabby     7708\n",
      "Tabby           5794\n",
      "White           3945\n",
      "Brown           3723\n",
      "Tan             2740\n",
      "Cream Tabby      970\n",
      "Cream            757\n",
      "Sable            443\n",
      "Gray Tabby       358\n",
      "Gray             352\n",
      "Black Tabby      215\n",
      "Apricot           67\n",
      "Name: count, dtype: int64\n"
     ]
    }
   ],
   "source": [
    "def improved_color_grouping(color):\n",
    "    \"\"\"\n",
    "    Group a detailed color description into a broader category based on training dataset insights.\n",
    "    \n",
    "    Parameters:\n",
    "        color (str): The original color value.\n",
    "        \n",
    "    Returns:\n",
    "        str: A grouped color category.\n",
    "    \"\"\"\n",
    "    # Handle missing values\n",
    "    if pd.isnull(color):\n",
    "        return \"Unknown\"\n",
    "    \n",
    "    # Normalize the color string\n",
    "    c = color.lower().strip()\n",
    "\n",
    "    # Check for composite color indications\n",
    "    if \"/\" in c:\n",
    "        return \"Mixed\"\n",
    "    \n",
    "    # Define a list of base colors that are common in the dataset\n",
    "    base_colors = [\"black\", \"white\", \"brown\", \"tan\", \"gray\", \"grey\", \"cream\", \"apricot\", \"sable\"]\n",
    "    \n",
    "    \n",
    "    found_colors = [base for base in base_colors if base in c]\n",
    "    \n",
    "    \n",
    "    if \"tabby\" in c:\n",
    "        \n",
    "        if found_colors:\n",
    "            return f\"{found_colors[0].capitalize()} Tabby\"\n",
    "        else:\n",
    "            return \"Tabby\"\n",
    "    \n",
    "    \n",
    "    if len(found_colors) == 1:\n",
    "        return found_colors[0].capitalize()\n",
    "    \n",
    "    \n",
    "    if len(found_colors) > 1:\n",
    "        return \"Mixed\"\n",
    "    \n",
    "    # Fallback for any colors that do not match our list of known base colors\n",
    "    return \"Other\"\n",
    "\n",
    "# Example usage:\n",
    "df['Color_Grouped'] = df['Color'].apply(improved_color_grouping)\n",
    "print(df['Color_Grouped'].value_counts())"
   ]
  },
  {
   "cell_type": "code",
   "execution_count": 30,
   "id": "b2e12fec-ee20-461a-aff4-9f6b5b071033",
   "metadata": {},
   "outputs": [
    {
     "name": "stdout",
     "output_type": "stream",
     "text": [
      "<class 'pandas.core.frame.DataFrame'>\n",
      "Index: 111155 entries, 0 to 111156\n",
      "Data columns (total 11 columns):\n",
      " #   Column                   Non-Null Count   Dtype  \n",
      "---  ------                   --------------   -----  \n",
      " 0   Id                       111155 non-null  string \n",
      " 1   Intake Type              111155 non-null  string \n",
      " 2   Intake Condition         111155 non-null  string \n",
      " 3   Animal Type              111155 non-null  string \n",
      " 4   Sex upon Intake          111155 non-null  object \n",
      " 5   Breed                    111155 non-null  string \n",
      " 6   Color                    111155 non-null  string \n",
      " 7   Outcome Type             111155 non-null  string \n",
      " 8   Age upon Intake (years)  111155 non-null  float64\n",
      " 9   Breed_Grouped            111155 non-null  object \n",
      " 10  Color_Grouped            111155 non-null  object \n",
      "dtypes: float64(1), object(3), string(7)\n",
      "memory usage: 10.2+ MB\n"
     ]
    }
   ],
   "source": [
    "df.info()"
   ]
  },
  {
   "cell_type": "code",
   "execution_count": 31,
   "id": "03fe2821-047c-4477-a3b1-7cb2ddb55a53",
   "metadata": {},
   "outputs": [],
   "source": [
    "#Drop Color and Breed\n",
    "df = df.drop(\"Color\", axis=1)\n",
    "df = df.drop(\"Breed\", axis=1)"
   ]
  },
  {
   "cell_type": "code",
   "execution_count": 32,
   "id": "e393f993-8dd6-43c8-be58-43f53eeaffba",
   "metadata": {},
   "outputs": [
    {
     "name": "stdout",
     "output_type": "stream",
     "text": [
      "<class 'pandas.core.frame.DataFrame'>\n",
      "Index: 111155 entries, 0 to 111156\n",
      "Data columns (total 9 columns):\n",
      " #   Column                   Non-Null Count   Dtype  \n",
      "---  ------                   --------------   -----  \n",
      " 0   Id                       111155 non-null  string \n",
      " 1   Intake Type              111155 non-null  string \n",
      " 2   Intake Condition         111155 non-null  string \n",
      " 3   Animal Type              111155 non-null  string \n",
      " 4   Sex upon Intake          111155 non-null  object \n",
      " 5   Outcome Type             111155 non-null  string \n",
      " 6   Age upon Intake (years)  111155 non-null  float64\n",
      " 7   Breed_Grouped            111155 non-null  object \n",
      " 8   Color_Grouped            111155 non-null  object \n",
      "dtypes: float64(1), object(3), string(5)\n",
      "memory usage: 8.5+ MB\n"
     ]
    }
   ],
   "source": [
    "df.info()"
   ]
  },
  {
   "cell_type": "code",
   "execution_count": 33,
   "id": "ed80bab6-fddf-4131-960d-12667c9dc407",
   "metadata": {},
   "outputs": [],
   "source": [
    "# One-hot encoding categorical features\n",
    "categorical_features = ['Intake Type', 'Intake Condition', 'Animal Type', 'Sex upon Intake', 'Breed_Grouped', 'Color_Grouped']\n",
    "df_encoded = pd.get_dummies(df, columns=categorical_features, drop_first=False)"
   ]
  },
  {
   "cell_type": "code",
   "execution_count": 34,
   "id": "d1b36f14-22c1-4099-915c-93890925ab78",
   "metadata": {},
   "outputs": [
    {
     "name": "stdout",
     "output_type": "stream",
     "text": [
      "Non-numeric columns: ['Id', 'Outcome Type', 'Intake Type_Abandoned', 'Intake Type_Other', 'Intake Type_Owner Surrender', 'Intake Type_Public Assist', 'Intake Type_Stray', 'Intake Condition_Injured', 'Intake Condition_Neonatal', 'Intake Condition_Normal', 'Intake Condition_Nursing', 'Intake Condition_Other', 'Intake Condition_Sick', 'Animal Type_Cat', 'Animal Type_Dog', 'Sex upon Intake_Intact Female', 'Sex upon Intake_Intact Male', 'Sex upon Intake_Neutered Male', 'Sex upon Intake_Spayed Female', 'Breed_Grouped_American Bulldog Mix', 'Breed_Grouped_American Pit Bull Terrier Mix', 'Breed_Grouped_Anatol Shepherd Mix', 'Breed_Grouped_Australian Cattle Dog', 'Breed_Grouped_Australian Cattle Dog Mix', 'Breed_Grouped_Australian Kelpie Mix', 'Breed_Grouped_Australian Shepherd Mix', 'Breed_Grouped_Beagle Mix', 'Breed_Grouped_Black Mouth Cur Mix', 'Breed_Grouped_Border Collie Mix', 'Breed_Grouped_Boxer', 'Breed_Grouped_Boxer Mix', 'Breed_Grouped_Cairn Terrier Mix', 'Breed_Grouped_Catahoula Mix', 'Breed_Grouped_Chihuahua Longhair Mix', 'Breed_Grouped_Chihuahua Shorthair', 'Breed_Grouped_Chihuahua Shorthair Mix', 'Breed_Grouped_Chihuahua Shorthair/Dachshund', 'Breed_Grouped_Dachshund', 'Breed_Grouped_Dachshund Mix', 'Breed_Grouped_Dachshund/Chihuahua Shorthair', 'Breed_Grouped_Domestic Longhair', 'Breed_Grouped_Domestic Longhair Mix', 'Breed_Grouped_Domestic Medium Hair', 'Breed_Grouped_Domestic Medium Hair Mix', 'Breed_Grouped_Domestic Shorthair', 'Breed_Grouped_Domestic Shorthair Mix', 'Breed_Grouped_German Shepherd', 'Breed_Grouped_German Shepherd Mix', 'Breed_Grouped_German Shepherd/Labrador Retriever', 'Breed_Grouped_Golden Retriever Mix', 'Breed_Grouped_Great Pyrenees', 'Breed_Grouped_Great Pyrenees Mix', 'Breed_Grouped_Jack Russell Terrier Mix', 'Breed_Grouped_Labrador Retriever', 'Breed_Grouped_Labrador Retriever Mix', 'Breed_Grouped_Labrador Retriever/German Shepherd', 'Breed_Grouped_Labrador Retriever/Pit Bull', 'Breed_Grouped_Miniature Poodle Mix', 'Breed_Grouped_Miniature Schnauzer Mix', 'Breed_Grouped_Other', 'Breed_Grouped_Pit Bull', 'Breed_Grouped_Pit Bull Mix', 'Breed_Grouped_Plott Hound Mix', 'Breed_Grouped_Pointer Mix', 'Breed_Grouped_Rat Terrier Mix', 'Breed_Grouped_Rottweiler', 'Breed_Grouped_Rottweiler Mix', 'Breed_Grouped_Shih Tzu', 'Breed_Grouped_Shih Tzu Mix', 'Breed_Grouped_Siamese', 'Breed_Grouped_Siamese Mix', 'Breed_Grouped_Siberian Husky', 'Breed_Grouped_Siberian Husky Mix', 'Breed_Grouped_Staffordshire Mix', 'Breed_Grouped_Yorkshire Terrier Mix', 'Color_Grouped_Apricot', 'Color_Grouped_Black', 'Color_Grouped_Black Tabby', 'Color_Grouped_Brown', 'Color_Grouped_Brown Tabby', 'Color_Grouped_Cream', 'Color_Grouped_Cream Tabby', 'Color_Grouped_Gray', 'Color_Grouped_Gray Tabby', 'Color_Grouped_Mixed', 'Color_Grouped_Other', 'Color_Grouped_Sable', 'Color_Grouped_Tabby', 'Color_Grouped_Tan', 'Color_Grouped_White']\n"
     ]
    }
   ],
   "source": [
    "# print(df_encoded.dtypes)\n",
    "non_numeric_cols = df_encoded.select_dtypes(exclude=[np.number]).columns.tolist()\n",
    "print(\"Non-numeric columns:\", non_numeric_cols)"
   ]
  },
  {
   "cell_type": "code",
   "execution_count": 35,
   "id": "0cefb56e-6957-42b5-a3da-b665e0123749",
   "metadata": {},
   "outputs": [],
   "source": [
    "#Separate target from non-target\n",
    "X_original=df_encoded.drop(columns=[ \"Id\", \"Outcome Type\"])\n",
    "scaler = StandardScaler()\n",
    "scaled_features = scaler.fit_transform(X_original)"
   ]
  },
  {
   "cell_type": "code",
   "execution_count": 36,
   "id": "a7b629bd-de2a-4e47-bec9-bf1612ac4dc4",
   "metadata": {},
   "outputs": [
    {
     "data": {
      "image/png": "[encoded data removed]",
      "text/plain": [
       "<Figure size 800x500 with 1 Axes>"
      ]
     },
     "metadata": {},
     "output_type": "display_data"
    }
   ],
   "source": [
    "#Find how much dimensionality to reduce via PCA(Not actually used though, since it is not necessary!)\n",
    "from sklearn.decomposition import PCA\n",
    "import matplotlib.pyplot as plt\n",
    "\n",
    "# Fit PCA without reducing dimensions to get the full variance decomposition\n",
    "pca_full = PCA()\n",
    "pca_full.fit(scaled_features)\n",
    "\n",
    "# Calculate the cumulative explained variance\n",
    "cumulative_variance = pca_full.explained_variance_ratio_.cumsum()\n",
    "\n",
    "# Plot the cumulative explained variance\n",
    "plt.figure(figsize=(8, 5))\n",
    "plt.plot(range(1, len(cumulative_variance)+1), cumulative_variance, marker='o', linestyle='--')\n",
    "plt.xlabel('Number of Components')\n",
    "plt.ylabel('Cumulative Explained Variance')\n",
    "plt.title('Explained Variance by Components')\n",
    "plt.axhline(y=0.90, color='r', linestyle='-')\n",
    "plt.axhline(y=0.95, color='g', linestyle='-')\n",
    "plt.show()\n",
    "#Note PCA not used since I observed significant gains in balanced accuracy when not using it"
   ]
  },
  {
   "cell_type": "code",
   "execution_count": 37,
   "id": "f434b3de-6b39-42b9-8c36-0b4dc715b762",
   "metadata": {},
   "outputs": [
    {
     "name": "stdout",
     "output_type": "stream",
     "text": [
      "        PC1       PC2       PC3       PC4       PC5       PC6       PC7  \\\n",
      "0  2.409638 -0.475801 -0.158312 -0.102003 -0.521039  2.035359  0.222803   \n",
      "1  1.448791  1.450386  0.865923 -1.226929 -0.238625  0.184923 -0.113924   \n",
      "2 -1.370509 -2.755347 -0.927317 -1.218093 -0.256919 -0.661824  0.293455   \n",
      "3  1.737988 -2.732238 -0.388908  0.910600 -0.662249 -0.785472 -1.324123   \n",
      "4  2.383834 -2.358028 -1.009866 -0.432064 -1.506811 -0.080625 -0.067030   \n",
      "\n",
      "        PC8       PC9      PC10  ...      PC61      PC62      PC63      PC64  \\\n",
      "0  1.070890  0.509699 -0.145201  ...  0.044361  0.059265  0.421876 -0.304218   \n",
      "1  0.981543 -0.168186 -0.259168  ...  0.034956 -0.107288 -0.063023  0.025495   \n",
      "2  0.465277  2.971846 -0.638087  ... -0.403779  0.108837 -0.224767  0.230792   \n",
      "3 -0.159490 -0.264486  2.132314  ... -0.260223  0.253010 -0.327359  0.262850   \n",
      "4 -0.787768  1.981064  1.746376  ...  0.223819  0.102987 -0.393947  0.445893   \n",
      "\n",
      "       PC65      PC66      PC67      PC68      PC69      PC70  \n",
      "0  0.067061  0.066239 -0.528394  0.033019  0.393995  0.026666  \n",
      "1 -0.153449 -0.037394  0.148955 -0.080227  0.044921  0.069505  \n",
      "2  0.373601 -0.117317 -1.262554  0.748370 -0.895714  0.319957  \n",
      "3 -0.442952  0.014587  0.392048 -0.117631 -0.393694 -1.406124  \n",
      "4  0.365041 -0.067497 -1.366174  0.163964  0.158440  1.653879  \n",
      "\n",
      "[5 rows x 70 columns]\n",
      "Explained variance ratio per component: [0.04367472 0.0248138  0.02147445 0.01952507 0.01758159 0.01591646\n",
      " 0.01512378 0.01459607 0.01403293 0.01348207 0.01311184 0.0130533\n",
      " 0.01278818 0.0126916  0.01263778 0.01239704 0.01228422 0.01223741\n",
      " 0.01201771 0.01190545 0.01181875 0.01173042 0.01169695 0.01156926\n",
      " 0.01155653 0.01149868 0.01148757 0.01142469 0.01140134 0.01139607\n",
      " 0.01138092 0.01136032 0.01132293 0.01131796 0.01131423 0.01130347\n",
      " 0.01130115 0.01130001 0.01129708 0.01129351 0.01129147 0.01128662\n",
      " 0.01128481 0.0112829  0.01128229 0.01128079 0.01127821 0.01127476\n",
      " 0.01127394 0.01127227 0.01127054 0.01126895 0.01126735 0.01126682\n",
      " 0.01126504 0.01126304 0.01125977 0.01125921 0.01125641 0.01124824\n",
      " 0.01123783 0.01122429 0.01118363 0.01117512 0.01109802 0.01106007\n",
      " 0.01093119 0.01086864 0.01076739 0.01062873]\n",
      "Total explained variance: 0.8897256681644093\n"
     ]
    }
   ],
   "source": [
    "#Chosen PCA based on prev plot\n",
    "n_components = 70\n",
    "pca = PCA(n_components=n_components)\n",
    "principal_components = pca.fit_transform(scaled_features)\n",
    "\n",
    "# Create a new DataFrame with the principal components\n",
    "principal_df = pd.DataFrame(data=principal_components,\n",
    "                            columns=[f'PC{i+1}' for i in range(n_components)])\n",
    "\n",
    "print(principal_df.head())\n",
    "print(\"Explained variance ratio per component:\", pca.explained_variance_ratio_)\n",
    "print(\"Total explained variance:\", pca.explained_variance_ratio_.sum())"
   ]
  },
  {
   "cell_type": "code",
   "execution_count": 38,
   "id": "a9ddd38b-426e-403e-83a0-c52ddad5d289",
   "metadata": {},
   "outputs": [
    {
     "name": "stdout",
     "output_type": "stream",
     "text": [
      "Stacked Ensemble Accuracy: 0.595384822994917\n"
     ]
    }
   ],
   "source": [
    "from sklearn.model_selection import train_test_split\n",
    "from sklearn.preprocessing import LabelEncoder\n",
    "from sklearn.ensemble import StackingClassifier\n",
    "from sklearn.linear_model import LogisticRegression, SGDClassifier\n",
    "from sklearn.tree import DecisionTreeClassifier\n",
    "from sklearn.svm import SVC\n",
    "\n",
    "\n",
    "# Assume principal_df (PCA output) and df (original training DataFrame) are ready\n",
    "X = principal_df.copy()  # PCA features\n",
    "y = df['Outcome Type'] \n",
    "\n",
    "# Label encode the target\n",
    "le = LabelEncoder()\n",
    "y_encoded = le.fit_transform(y)\n",
    "\n",
    "# Split data into training and validation\n",
    "X_train, X_test, y_train, y_test = train_test_split(\n",
    "    X, y_encoded, test_size=0.2, random_state=42, stratify=y_encoded\n",
    ")\n",
    "\n",
    "# Use a lighter base estimator instead of SVC(probability=True)\n",
    "# Option 1: Use SVC with a linear kernel and disable probability estimates.\n",
    "# Option 2: Use an SGDClassifier for hinge loss (approximate linear SVM)\n",
    "level1_estimators = [\n",
    "    ('dt', DecisionTreeClassifier(random_state=42)),\n",
    "    ('svm', SGDClassifier(loss='hinge', max_iter=1000, tol=1e-3, random_state=42, n_jobs=-1))\n",
    "]\n",
    "\n",
    "meta_learner = LogisticRegression(n_jobs=-1)\n",
    "\n",
    "stacked_clf = StackingClassifier(\n",
    "    estimators=level1_estimators,\n",
    "    final_estimator=meta_learner,\n",
    "    passthrough=False,\n",
    "    n_jobs=-1 #apparently parallelizes, but no performance diff if removed\n",
    ")\n",
    "\n",
    "stacked_clf.fit(X_train, y_train)\n",
    "print(\"Stacked Ensemble Accuracy:\", stacked_clf.score(X_test, y_test))\n"
   ]
  },
  {
   "cell_type": "code",
   "execution_count": 39,
   "id": "2b72cd3d-5015-49e6-a7f8-6fd0f6c047b9",
   "metadata": {},
   "outputs": [
    {
     "name": "stdout",
     "output_type": "stream",
     "text": [
      "Index(['Age upon Intake (years)', 'Intake Type_Abandoned', 'Intake Type_Other',\n",
      "       'Intake Type_Owner Surrender', 'Intake Type_Public Assist',\n",
      "       'Intake Type_Stray', 'Intake Condition_Injured',\n",
      "       'Intake Condition_Neonatal', 'Intake Condition_Normal',\n",
      "       'Intake Condition_Nursing', 'Intake Condition_Other',\n",
      "       'Intake Condition_Sick', 'Animal Type_Cat', 'Animal Type_Dog',\n",
      "       'Sex upon Intake_Intact Female', 'Sex upon Intake_Intact Male',\n",
      "       'Sex upon Intake_Neutered Male', 'Sex upon Intake_Spayed Female',\n",
      "       'Breed_Grouped_American Bulldog Mix',\n",
      "       'Breed_Grouped_American Pit Bull Terrier Mix',\n",
      "       'Breed_Grouped_Anatol Shepherd Mix',\n",
      "       'Breed_Grouped_Australian Cattle Dog',\n",
      "       'Breed_Grouped_Australian Cattle Dog Mix',\n",
      "       'Breed_Grouped_Australian Kelpie Mix',\n",
      "       'Breed_Grouped_Australian Shepherd Mix', 'Breed_Grouped_Beagle Mix',\n",
      "       'Breed_Grouped_Black Mouth Cur Mix', 'Breed_Grouped_Border Collie Mix',\n",
      "       'Breed_Grouped_Boxer', 'Breed_Grouped_Boxer Mix',\n",
      "       'Breed_Grouped_Cairn Terrier Mix', 'Breed_Grouped_Catahoula Mix',\n",
      "       'Breed_Grouped_Chihuahua Longhair Mix',\n",
      "       'Breed_Grouped_Chihuahua Shorthair',\n",
      "       'Breed_Grouped_Chihuahua Shorthair Mix',\n",
      "       'Breed_Grouped_Chihuahua Shorthair/Dachshund',\n",
      "       'Breed_Grouped_Dachshund', 'Breed_Grouped_Dachshund Mix',\n",
      "       'Breed_Grouped_Dachshund/Chihuahua Shorthair',\n",
      "       'Breed_Grouped_Domestic Longhair',\n",
      "       'Breed_Grouped_Domestic Longhair Mix',\n",
      "       'Breed_Grouped_Domestic Medium Hair',\n",
      "       'Breed_Grouped_Domestic Medium Hair Mix',\n",
      "       'Breed_Grouped_Domestic Shorthair',\n",
      "       'Breed_Grouped_Domestic Shorthair Mix', 'Breed_Grouped_German Shepherd',\n",
      "       'Breed_Grouped_German Shepherd Mix',\n",
      "       'Breed_Grouped_German Shepherd/Labrador Retriever',\n",
      "       'Breed_Grouped_Golden Retriever Mix', 'Breed_Grouped_Great Pyrenees',\n",
      "       'Breed_Grouped_Great Pyrenees Mix',\n",
      "       'Breed_Grouped_Jack Russell Terrier Mix',\n",
      "       'Breed_Grouped_Labrador Retriever',\n",
      "       'Breed_Grouped_Labrador Retriever Mix',\n",
      "       'Breed_Grouped_Labrador Retriever/German Shepherd',\n",
      "       'Breed_Grouped_Labrador Retriever/Pit Bull',\n",
      "       'Breed_Grouped_Miniature Poodle Mix',\n",
      "       'Breed_Grouped_Miniature Schnauzer Mix', 'Breed_Grouped_Other',\n",
      "       'Breed_Grouped_Pit Bull', 'Breed_Grouped_Pit Bull Mix',\n",
      "       'Breed_Grouped_Plott Hound Mix', 'Breed_Grouped_Pointer Mix',\n",
      "       'Breed_Grouped_Rat Terrier Mix', 'Breed_Grouped_Rottweiler',\n",
      "       'Breed_Grouped_Rottweiler Mix', 'Breed_Grouped_Shih Tzu',\n",
      "       'Breed_Grouped_Shih Tzu Mix', 'Breed_Grouped_Siamese',\n",
      "       'Breed_Grouped_Siamese Mix', 'Breed_Grouped_Siberian Husky',\n",
      "       'Breed_Grouped_Siberian Husky Mix', 'Breed_Grouped_Staffordshire Mix',\n",
      "       'Breed_Grouped_Yorkshire Terrier Mix', 'Color_Grouped_Apricot',\n",
      "       'Color_Grouped_Black', 'Color_Grouped_Black Tabby',\n",
      "       'Color_Grouped_Brown', 'Color_Grouped_Brown Tabby',\n",
      "       'Color_Grouped_Cream', 'Color_Grouped_Cream Tabby',\n",
      "       'Color_Grouped_Gray', 'Color_Grouped_Gray Tabby', 'Color_Grouped_Mixed',\n",
      "       'Color_Grouped_Other', 'Color_Grouped_Sable', 'Color_Grouped_Tabby',\n",
      "       'Color_Grouped_Tan', 'Color_Grouped_White'],\n",
      "      dtype='object')\n"
     ]
    }
   ],
   "source": [
    "feature_names = X_original.columns\n",
    "print(feature_names)\n",
    "df = pd.read_csv(\"test.csv\")\n",
    "\n",
    "# Apply custom transformations\n",
    "df['Age upon Intake (years)'] = df['Age upon Intake'].apply(parse_age)\n",
    "df = df.drop(\"Found Location\", axis=1)\n",
    "df = df.drop(\"Date of Birth\", axis=1)\n",
    "df = df.drop(\"Intake Time\", axis=1)\n",
    "df = df.drop(\"Age upon Intake\", axis=1)\n",
    "\n",
    "# Convert object columns to string\n",
    "string_cols = df.select_dtypes(include=\"object\").columns\n",
    "df[string_cols] = df[string_cols].astype(\"string\")\n",
    "\n",
    "#Process remaining features\n",
    "\n",
    "\n",
    "df['Intake Type'] = df['Intake Type'].replace({\n",
    "    'Euthanasia Request': 'Other',\n",
    "    'Wildlife': 'Other'\n",
    "})\n",
    "\n",
    "# Replace infrequent conditions\n",
    "infrequent_conditions = [\n",
    "    \"Aged\", \"Medical\", \"Other\", \"Pregnant\", \"Panleuk\", \"Feral\", \"Med Attn\", \n",
    "    \"Behavior\", \"Unknown\", \"Neurologic\", \"Med Urgent\", \"Parvo\", \n",
    "    \"Space\", \"Agonal\", \"Congenital\"\n",
    "]\n",
    "df['Intake Condition'] = df['Intake Condition'].replace(infrequent_conditions, 'Other')\n",
    "\n",
    "\n",
    "df['Sex upon Intake'] = df['Sex upon Intake'].astype(object)\n",
    "df['Sex upon Intake'] = df['Sex upon Intake'].replace(\"Unknown\", np.nan)\n",
    "imputer = SimpleImputer(strategy=\"most_frequent\")\n",
    "df['Sex upon Intake'] = imputer.fit_transform(df[['Sex upon Intake']]).ravel()\n",
    "\n",
    "\n",
    "df['Breed'] = df['Breed'].str.strip().fillna('Unknown')\n",
    "breed_counts = df['Breed'].value_counts()\n",
    "threshold = 200\n",
    "rare_breeds = breed_counts[breed_counts < threshold].index\n",
    "df['Breed_Grouped'] = df['Breed'].apply(lambda x: 'Other' if x in rare_breeds else x)\n",
    "\n",
    "\n",
    "df['Color_Grouped'] = df['Color'].apply(improved_color_grouping)\n",
    "\n",
    "\n",
    "df = df.drop(\"Color\", axis=1)\n",
    "df = df.drop(\"Breed\", axis=1)\n",
    "\n",
    "#One hot encode\n",
    "categorical_features = ['Intake Type', 'Intake Condition', 'Animal Type', \n",
    "                        'Sex upon Intake', 'Breed_Grouped', 'Color_Grouped']\n",
    "df_encoded_test = pd.get_dummies(df, columns=categorical_features, drop_first=False)\n",
    "\n",
    "# Drop id\n",
    "X_test = df_encoded_test.drop(columns=[\"Id\"])\n",
    "X_test = X_test.reindex(columns=feature_names, fill_value=0)\n",
    "X_test_scaled = scaler.transform(X_test)\n",
    "X_test_pca = pca.transform(X_test_scaled)"
   ]
  },
  {
   "cell_type": "code",
   "execution_count": 43,
   "id": "5c6a8db8-04bd-4300-9125-6e58a426e0fe",
   "metadata": {},
   "outputs": [
    {
     "name": "stdout",
     "output_type": "stream",
     "text": [
      "C:\\Users\\polis\\Downloads\\MLFINALPROJECT\n",
      "Submission file created successfully.\n"
     ]
    },
    {
     "name": "stderr",
     "output_type": "stream",
     "text": [
      "C:\\Users\\polis\\AppData\\Local\\Programs\\Python\\Python312\\Lib\\site-packages\\sklearn\\utils\\validation.py:2739: UserWarning: X does not have valid feature names, but DecisionTreeClassifier was fitted with feature names\n",
      "  warnings.warn(\n",
      "C:\\Users\\polis\\AppData\\Local\\Programs\\Python\\Python312\\Lib\\site-packages\\sklearn\\utils\\validation.py:2739: UserWarning: X does not have valid feature names, but SGDClassifier was fitted with feature names\n",
      "  warnings.warn(\n"
     ]
    }
   ],
   "source": [
    "import os\n",
    "#Added this due to a bug while trying to read csv\n",
    "print(os.getcwd())\n",
    "\n",
    "predicted_indices = stacked_clf.predict(X_test_pca)\n",
    "\n",
    "\n",
    "predicted_labels = le.inverse_transform(predicted_indices)\n",
    "\n",
    "submission = pd.read_csv(r\"C:\\Users\\polis\\Downloads\\MLFINALPROJECT\\sample_submission.csv\")\n",
    "\n",
    "submission[\"Id\"] = df_encoded_test[\"Id\"]\n",
    "submission[\"Outcome Type\"] = predicted_labels\n",
    "submission.to_csv(\"submission.csv\", index=False)\n",
    "print(\"Submission file created successfully.\")"
   ]
  },
  {
   "cell_type": "code",
   "execution_count": null,
   "id": "0c3bbdee-0443-4314-af69-7e0874d67e9e",
   "metadata": {},
   "outputs": [],
   "source": []
  }
 ],
 "metadata": {
  "kernelspec": {
   "display_name": "Python 3 (ipykernel)",
   "language": "python",
   "name": "python3"
  },
  "language_info": {
   "codemirror_mode": {
    "name": "ipython",
    "version": 3
   },
   "file_extension": ".py",
   "mimetype": "text/x-python",
   "name": "python",
   "nbconvert_exporter": "python",
   "pygments_lexer": "ipython3",
   "version": "3.12.3"
  }
 },
 "nbformat": 4,
 "nbformat_minor": 5
}
